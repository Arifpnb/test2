{
 "cells": [
  {
   "cell_type": "markdown",
   "id": "2c6ab7a7-2cab-4f26-a85e-b62005e63683",
   "metadata": {},
   "source": [
    "how to do"
   ]
  },
  {
   "cell_type": "raw",
   "id": "4184c6db-b01a-4e13-b2aa-0e12568f9b2c",
   "metadata": {},
   "source": [
    "how to do"
   ]
  },
  {
   "cell_type": "raw",
   "id": "07956cea-e5f9-4635-b64a-656db77d5305",
   "metadata": {},
   "source": [
    "how learn"
   ]
  },
  {
   "cell_type": "code",
   "execution_count": null,
   "id": "4c6ce04b-a0bc-4cea-8557-4f05cc661505",
   "metadata": {},
   "outputs": [],
   "source": []
  }
 ],
 "metadata": {
  "kernelspec": {
   "display_name": "Python 3 (ipykernel)",
   "language": "python",
   "name": "python3"
  },
  "language_info": {
   "codemirror_mode": {
    "name": "ipython",
    "version": 3
   },
   "file_extension": ".py",
   "mimetype": "text/x-python",
   "name": "python",
   "nbconvert_exporter": "python",
   "pygments_lexer": "ipython3",
   "version": "3.10.8"
  }
 },
 "nbformat": 4,
 "nbformat_minor": 5
}
